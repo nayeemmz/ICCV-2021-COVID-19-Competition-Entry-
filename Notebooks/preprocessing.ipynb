{
 "cells": [
  {
   "cell_type": "markdown",
   "metadata": {},
   "source": [
    "## Data preprocessing code"
   ]
  },
  {
   "cell_type": "markdown",
   "metadata": {},
   "source": [
    "### Import libraries"
   ]
  },
  {
   "cell_type": "code",
   "execution_count": 2,
   "metadata": {},
   "outputs": [],
   "source": [
    "import glob, os, shutil"
   ]
  },
  {
   "cell_type": "markdown",
   "metadata": {},
   "source": [
    "### Set up the data directories"
   ]
  },
  {
   "cell_type": "code",
   "execution_count": 24,
   "metadata": {},
   "outputs": [],
   "source": [
    "base_dir = 'ICCV2021Data/COV19DCompetition/Data/'\n",
    "train_covid = os.path.join(base_dir,'train/covid/')\n",
    "train_non_covid = os.path.join(base_dir,'train/non-covid/')\n",
    "validation_covid = os.path.join(base_dir,'validation/covid/'\n",
    "validation_non_covid = os.path.join(base_dir,'validation/non-covid/'\n",
    "test_dir = os.path.join(base_dir,'test')\n",
    "pred_dir = os.path.join(test_dir,'to_be_predicted')\n"
   ]
  },
  {
   "cell_type": "markdown",
   "metadata": {},
   "source": [
    "### Move the files from the subfolders of training and validation directories to the main directories\n",
    "### The directory structure should look like\n",
    "\n",
    "The data directories structure should be \n",
    "\n",
    " \n",
    " * ``` \n",
    "    train\n",
    "    |-- covid\n",
    "        |-- images\n",
    "         \n",
    "    |-- non-covid\n",
    "        |-- images\n",
    " \n",
    "   ```\n",
    " * ```\n",
    "   validation\n",
    "   |-- covid\n",
    "        |-- images\n",
    "         \n",
    "    |-- non-covid\n",
    "        |-- images\n",
    "   ```\n",
    " * ```\n",
    "   train\n",
    "   |-- to_be_predicted\n",
    "       |-- images\n",
    " ```"
   ]
  },
  {
   "cell_type": "code",
   "execution_count": 4,
   "metadata": {},
   "outputs": [],
   "source": [
    "def moveFiles(folder_name):\n",
    "    for filename in glob.iglob(folder_name + '**/**', recursive=True):\n",
    "        if os.path.isfile(filename):\n",
    "#         print(filename)\n",
    "#         print(filename.split('/')[-2])\n",
    "            new_name = filename.split('/')[-2] + '_' + filename.split('/')[-1]\n",
    "#         print(new_name)\n",
    "            shutil.move(filename,folder_name+'/'+new_name)\n",
    "\n",
    "        "
   ]
  },
  {
   "cell_type": "code",
   "execution_count": 7,
   "metadata": {},
   "outputs": [],
   "source": [
    "# moveFiles(train_covid)\n",
    "# moveFiles(train_non_covid)\n",
    "\n",
    "# moveFiles(validation_covid)\n",
    "# moveFiles(validation_non_covid)\n",
    "\n",
    "\n",
    "# Delete empty folders on command line\n",
    "# find . -type d -empty -delete"
   ]
  },
  {
   "cell_type": "code",
   "execution_count": 5,
   "metadata": {},
   "outputs": [],
   "source": [
    "## Moving test images from subfolders\n",
    "\n",
    "def get_image_names(folder):\n",
    "    fs = []\n",
    "    for subdir, dirs, files in os.walk(folder, topdown=True):\n",
    "        for f in files:\n",
    "            _,ending = os.path.splitext(f)\n",
    "            if ending == \".jpg\":\n",
    "                fs.append(os.path.join(subdir,f))\n",
    "    return(fs)\n",
    "\n",
    "test_image_list = get_image_names(test_dir)\n"
   ]
  },
  {
   "cell_type": "code",
   "execution_count": 7,
   "metadata": {},
   "outputs": [
    {
     "name": "stdout",
     "output_type": "stream",
     "text": [
      "609057\n"
     ]
    }
   ],
   "source": [
    "print(len(test_image_list))"
   ]
  },
  {
   "cell_type": "code",
   "execution_count": 17,
   "metadata": {},
   "outputs": [],
   "source": [
    "for f in test_image_list:\n",
    "#     print(f)\n",
    "    if os.path.isfile(f):\n",
    "        new_name = f.split(\"/\")[-2]+\"_\"+f.split(\"/\")[-1]\n",
    "#         print(new_name)\n",
    "#         print(test_dir)\n",
    "        shutil.move(f,test_dir+'/'+new_name)\n",
    "        "
   ]
  },
  {
   "cell_type": "code",
   "execution_count": null,
   "metadata": {},
   "outputs": [],
   "source": [
    "for subdir, dirs, files in os.walk(test_dir, topdown=True):\n",
    "    for f in files:\n",
    "        _,ending = os.path.splitext(f)\n",
    "        if ending == \".jpg\":\n",
    "#             print(os.path.join(subdir,f))\n",
    "            shutil.move(os.path.join(subdir,f),pred_dir)\n",
    "            "
   ]
  },
  {
   "cell_type": "code",
   "execution_count": null,
   "metadata": {},
   "outputs": [],
   "source": []
  }
 ],
 "metadata": {
  "kernelspec": {
   "display_name": "Python 3",
   "language": "python",
   "name": "python3"
  },
  "language_info": {
   "codemirror_mode": {
    "name": "ipython",
    "version": 3
   },
   "file_extension": ".py",
   "mimetype": "text/x-python",
   "name": "python",
   "nbconvert_exporter": "python",
   "pygments_lexer": "ipython3",
   "version": "3.9.1"
  }
 },
 "nbformat": 4,
 "nbformat_minor": 4
}
